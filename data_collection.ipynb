{
  "nbformat": 4,
  "nbformat_minor": 0,
  "metadata": {
    "kernelspec": {
      "display_name": "Python 3",
      "language": "python",
      "name": "python3"
    },
    "language_info": {
      "codemirror_mode": {
        "name": "ipython",
        "version": 3
      },
      "file_extension": ".py",
      "mimetype": "text/x-python",
      "name": "python",
      "nbconvert_exporter": "python",
      "pygments_lexer": "ipython3",
      "version": "3.7.6"
    },
    "colab": {
      "name": "data_collection.ipynb",
      "provenance": [],
      "include_colab_link": true
    }
  },
  "cells": [
    {
      "cell_type": "markdown",
      "metadata": {
        "id": "view-in-github",
        "colab_type": "text"
      },
      "source": [
        "<a href=\"https://colab.research.google.com/github/syedayazsa/Realtime-Face-Indentification/blob/master/data_collection.ipynb\" target=\"_parent\"><img src=\"https://colab.research.google.com/assets/colab-badge.svg\" alt=\"Open In Colab\"/></a>"
      ]
    },
    {
      "cell_type": "markdown",
      "metadata": {
        "id": "DN7Idy-oRVdY",
        "colab_type": "text"
      },
      "source": [
        "# DATA COLLECTION"
      ]
    },
    {
      "cell_type": "markdown",
      "metadata": {
        "id": "4Ch2y2TuRVdZ",
        "colab_type": "text"
      },
      "source": [
        "## Importing Libraries"
      ]
    },
    {
      "cell_type": "code",
      "metadata": {
        "id": "8IzH-JzARVda",
        "colab_type": "code",
        "colab": {}
      },
      "source": [
        "import numpy as np\n",
        "import cv2\n",
        "import os"
      ],
      "execution_count": 0,
      "outputs": []
    },
    {
      "cell_type": "markdown",
      "metadata": {
        "id": "s8rEItJBRVdd",
        "colab_type": "text"
      },
      "source": [
        "## Defining face extraction function"
      ]
    },
    {
      "cell_type": "code",
      "metadata": {
        "id": "slmJa5lCRVde",
        "colab_type": "code",
        "colab": {}
      },
      "source": [
        "face_classifier = cv2.CascadeClassifier(r'C:\\Users\\Ayaz\\Desktop\\Face_Identification\\data\\haarcascade_frontalface_default.xml')\n",
        "def face_extractor(img): #returns cropped image of the face\n",
        "    faces = face_classifier.detectMultiScale(img, scaleFactor = 1.3, minNeighbors = 5)\n",
        "    if faces is ():\n",
        "        return None\n",
        "    for(x,y,w,h) in faces: #cropping the faces found\n",
        "        x = x-10\n",
        "        y = y-10\n",
        "        cropped_face = img[y:y+h+50, x:x+h+50]\n",
        "    return cropped_face"
      ],
      "execution_count": 0,
      "outputs": []
    },
    {
      "cell_type": "markdown",
      "metadata": {
        "id": "mkE7CkptRVdg",
        "colab_type": "text"
      },
      "source": [
        "## Initializing webcam and collection samples(200)"
      ]
    },
    {
      "cell_type": "code",
      "metadata": {
        "id": "4FMTat4CRVdh",
        "colab_type": "code",
        "colab": {}
      },
      "source": [
        "cap = cv2.VideoCapture(0)\n",
        "count = 0\n",
        "\n",
        "while True: #collecting samples\n",
        "    ret, frame = cap.read()\n",
        "    if face_extractor(frame) is not None:\n",
        "        count += 1\n",
        "        face = cv2.resize(face_extractor(frame), (400, 400))\n",
        "        file_name_path = os.path.join(r\"C:\\Users\\Ayaz\\Desktop\\Face_Identification\\Datasets\\person0\", str(count), r\".jpg\")\n",
        "        cv2.imwrite(file_name_path, face)\n",
        "        \n",
        "        #live counter\n",
        "        cv2.putText(face, str(count), (50, 50), cv2.FONT_HERSHEY_COMPLEX, 1, (0,255,0), 2)\n",
        "        cv2.imhshow('face Cropper', face)\n",
        "    else:\n",
        "        print(\"Face not found\")\n",
        "        pass\n",
        "    \n",
        "    if cv2.waitKey(1) == 13 or count == 200: #Enter Key\n",
        "        break\n",
        "cap.release()\n",
        "cv2.destroyAllWindows()      \n",
        "print(\"Collecting Samples Complete\")"
      ],
      "execution_count": 0,
      "outputs": []
    }
  ]
}