{
  "nbformat": 4,
  "nbformat_minor": 0,
  "metadata": {
    "kernelspec": {
      "display_name": "Python 3",
      "language": "python",
      "name": "python3"
    },
    "language_info": {
      "codemirror_mode": {
        "name": "ipython",
        "version": 3
      },
      "file_extension": ".py",
      "mimetype": "text/x-python",
      "name": "python",
      "nbconvert_exporter": "python",
      "pygments_lexer": "ipython3",
      "version": "3.7.6"
    },
    "colab": {
      "name": "model_test.ipynb",
      "provenance": [],
      "collapsed_sections": [],
      "toc_visible": true,
      "include_colab_link": true
    },
    "accelerator": "GPU"
  },
  "cells": [
    {
      "cell_type": "markdown",
      "metadata": {
        "id": "view-in-github",
        "colab_type": "text"
      },
      "source": [
        "<a href=\"https://colab.research.google.com/github/syedayazsa/Realtime-Face-Indentification/blob/master/model_test.ipynb\" target=\"_parent\"><img src=\"https://colab.research.google.com/assets/colab-badge.svg\" alt=\"Open In Colab\"/></a>"
      ]
    },
    {
      "cell_type": "markdown",
      "metadata": {
        "id": "acgmfQs-B4oo",
        "colab_type": "text"
      },
      "source": [
        "## Importing Libraries"
      ]
    },
    {
      "cell_type": "code",
      "metadata": {
        "id": "tWPRC5sXB4ow",
        "colab_type": "code",
        "outputId": "28fa3359-d051-4437-9517-da7dd99f6fd3",
        "colab": {
          "base_uri": "https://localhost:8080/",
          "height": 34
        }
      },
      "source": [
        "from PIL import Image\n",
        "from keras.applications.vgg16 import preprocess_input\n",
        "import base64\n",
        "from PIL import Image\n",
        "import base64\n",
        "from glob import glob\n",
        "import random\n",
        "import cv2\n",
        "import os\n",
        "from keras.models import load_model\n",
        "import numpy as np\n",
        "from keras.preprocessing.image import ImageDataGenerator, load_img, img_to_array\n",
        "from keras.preprocessing import image\n",
        "import pandas as pd\n",
        "import multiprocessing as mp\n",
        "from google.colab.patches import cv2_imshow\n",
        "import matplotlib.pyplot as plt"
      ],
      "execution_count": 1,
      "outputs": [
        {
          "output_type": "stream",
          "text": [
            "Using TensorFlow backend.\n"
          ],
          "name": "stderr"
        }
      ]
    },
    {
      "cell_type": "code",
      "metadata": {
        "id": "gpHh8idmCZ_O",
        "colab_type": "code",
        "outputId": "637d0071-bab9-4760-a84c-2fe9f1531bb9",
        "colab": {
          "base_uri": "https://localhost:8080/",
          "height": 445
        }
      },
      "source": [
        "!wget --load-cookies /tmp/cookies.txt \"https://docs.google.com/uc?export=download&confirm=$(wget --quiet --save-cookies /tmp/cookies.txt --keep-session-cookies --no-check-certificate 'https://docs.google.com/uc?export=download&id=19OiBwc-NrJVa8o52GkXcmxrGfYiOLCtx' -O- | sed -rn 's/.*confirm=([0-9A-Za-z_]+).*/\\1\\n/p')&id=19OiBwc-NrJVa8o52GkXcmxrGfYiOLCtx\" -O facedetection_vgg.h5 && rm -rf /tmp/cookies.txt"
      ],
      "execution_count": 1,
      "outputs": [
        {
          "output_type": "stream",
          "text": [
            "--2020-05-28 07:13:15--  https://docs.google.com/uc?export=download&confirm=dBIO&id=19OiBwc-NrJVa8o52GkXcmxrGfYiOLCtx\n",
            "Resolving docs.google.com (docs.google.com)... 172.217.13.78, 2607:f8b0:4004:808::200e\n",
            "Connecting to docs.google.com (docs.google.com)|172.217.13.78|:443... connected.\n",
            "HTTP request sent, awaiting response... 302 Moved Temporarily\n",
            "Location: https://doc-08-ac-docs.googleusercontent.com/docs/securesc/ptq38q271q12thrl8ar691ebnscev25j/43poph5lqh3vslcr0tl82oetp94nspqg/1590649950000/14211000813324722452/18009871134738132482Z/19OiBwc-NrJVa8o52GkXcmxrGfYiOLCtx?e=download [following]\n",
            "--2020-05-28 07:13:15--  https://doc-08-ac-docs.googleusercontent.com/docs/securesc/ptq38q271q12thrl8ar691ebnscev25j/43poph5lqh3vslcr0tl82oetp94nspqg/1590649950000/14211000813324722452/18009871134738132482Z/19OiBwc-NrJVa8o52GkXcmxrGfYiOLCtx?e=download\n",
            "Resolving doc-08-ac-docs.googleusercontent.com (doc-08-ac-docs.googleusercontent.com)... 172.217.12.225, 2607:f8b0:4004:807::2001\n",
            "Connecting to doc-08-ac-docs.googleusercontent.com (doc-08-ac-docs.googleusercontent.com)|172.217.12.225|:443... connected.\n",
            "HTTP request sent, awaiting response... 302 Found\n",
            "Location: https://docs.google.com/nonceSigner?nonce=lsie62qt3lviq&continue=https://doc-08-ac-docs.googleusercontent.com/docs/securesc/ptq38q271q12thrl8ar691ebnscev25j/43poph5lqh3vslcr0tl82oetp94nspqg/1590649950000/14211000813324722452/18009871134738132482Z/19OiBwc-NrJVa8o52GkXcmxrGfYiOLCtx?e%3Ddownload&hash=s6cfgv5ulf69jsghh4al4e66jkhb3lle [following]\n",
            "--2020-05-28 07:13:15--  https://docs.google.com/nonceSigner?nonce=lsie62qt3lviq&continue=https://doc-08-ac-docs.googleusercontent.com/docs/securesc/ptq38q271q12thrl8ar691ebnscev25j/43poph5lqh3vslcr0tl82oetp94nspqg/1590649950000/14211000813324722452/18009871134738132482Z/19OiBwc-NrJVa8o52GkXcmxrGfYiOLCtx?e%3Ddownload&hash=s6cfgv5ulf69jsghh4al4e66jkhb3lle\n",
            "Connecting to docs.google.com (docs.google.com)|172.217.13.78|:443... connected.\n",
            "HTTP request sent, awaiting response... 302 Found\n",
            "Location: https://doc-08-ac-docs.googleusercontent.com/docs/securesc/ptq38q271q12thrl8ar691ebnscev25j/43poph5lqh3vslcr0tl82oetp94nspqg/1590649950000/14211000813324722452/18009871134738132482Z/19OiBwc-NrJVa8o52GkXcmxrGfYiOLCtx?e=download&nonce=lsie62qt3lviq&user=18009871134738132482Z&hash=jhouljo1ikaebtlo839hddlsnjic1d7p [following]\n",
            "--2020-05-28 07:13:15--  https://doc-08-ac-docs.googleusercontent.com/docs/securesc/ptq38q271q12thrl8ar691ebnscev25j/43poph5lqh3vslcr0tl82oetp94nspqg/1590649950000/14211000813324722452/18009871134738132482Z/19OiBwc-NrJVa8o52GkXcmxrGfYiOLCtx?e=download&nonce=lsie62qt3lviq&user=18009871134738132482Z&hash=jhouljo1ikaebtlo839hddlsnjic1d7p\n",
            "Connecting to doc-08-ac-docs.googleusercontent.com (doc-08-ac-docs.googleusercontent.com)|172.217.12.225|:443... connected.\n",
            "HTTP request sent, awaiting response... 200 OK\n",
            "Length: unspecified [application/octet-stream]\n",
            "Saving to: ‘facedetection_vgg.h5’\n",
            "\n",
            "facedetection_vgg.h     [        <=>         ] 707.67M   165MB/s    in 5.6s    \n",
            "\n",
            "2020-05-28 07:13:21 (127 MB/s) - ‘facedetection_vgg.h5’ saved [742048352]\n",
            "\n"
          ],
          "name": "stdout"
        }
      ]
    },
    {
      "cell_type": "code",
      "metadata": {
        "id": "cp385IwNCab5",
        "colab_type": "code",
        "outputId": "e00abab7-aeef-4bce-c20a-0638eb627dfc",
        "colab": {
          "base_uri": "https://localhost:8080/",
          "height": 445
        }
      },
      "source": [
        "!wget --load-cookies /tmp/cookies.txt \"https://docs.google.com/uc?export=download&confirm=$(wget --quiet --save-cookies /tmp/cookies.txt --keep-session-cookies --no-check-certificate 'https://docs.google.com/uc?export=download&id=1lHtSjvVWP_VUVRjmMBVXQa_9WR2AnB3r' -O- | sed -rn 's/.*confirm=([0-9A-Za-z_]+).*/\\1\\n/p')&id=1lHtSjvVWP_VUVRjmMBVXQa_9WR2AnB3r\" -O haarcascade_frontalface_default.xml && rm -rf /tmp/cookies.txt"
      ],
      "execution_count": 2,
      "outputs": [
        {
          "output_type": "stream",
          "text": [
            "--2020-05-28 07:13:23--  https://docs.google.com/uc?export=download&confirm=&id=1lHtSjvVWP_VUVRjmMBVXQa_9WR2AnB3r\n",
            "Resolving docs.google.com (docs.google.com)... 142.250.31.113, 142.250.31.102, 142.250.31.139, ...\n",
            "Connecting to docs.google.com (docs.google.com)|142.250.31.113|:443... connected.\n",
            "HTTP request sent, awaiting response... 302 Moved Temporarily\n",
            "Location: https://doc-0c-60-docs.googleusercontent.com/docs/securesc/jbju83ubigc3qdrcaq5ui6kaiebhv7j4/arhqtjd2unv3v0hhlutlo23l5i5vcqof/1590649950000/14211000813324722452/02065955666585418514Z/1lHtSjvVWP_VUVRjmMBVXQa_9WR2AnB3r?e=download [following]\n",
            "--2020-05-28 07:13:23--  https://doc-0c-60-docs.googleusercontent.com/docs/securesc/jbju83ubigc3qdrcaq5ui6kaiebhv7j4/arhqtjd2unv3v0hhlutlo23l5i5vcqof/1590649950000/14211000813324722452/02065955666585418514Z/1lHtSjvVWP_VUVRjmMBVXQa_9WR2AnB3r?e=download\n",
            "Resolving doc-0c-60-docs.googleusercontent.com (doc-0c-60-docs.googleusercontent.com)... 172.217.12.225, 2607:f8b0:4004:807::2001\n",
            "Connecting to doc-0c-60-docs.googleusercontent.com (doc-0c-60-docs.googleusercontent.com)|172.217.12.225|:443... connected.\n",
            "HTTP request sent, awaiting response... 302 Found\n",
            "Location: https://docs.google.com/nonceSigner?nonce=g10rad23cvhgg&continue=https://doc-0c-60-docs.googleusercontent.com/docs/securesc/jbju83ubigc3qdrcaq5ui6kaiebhv7j4/arhqtjd2unv3v0hhlutlo23l5i5vcqof/1590649950000/14211000813324722452/02065955666585418514Z/1lHtSjvVWP_VUVRjmMBVXQa_9WR2AnB3r?e%3Ddownload&hash=95dfhu015vl6gpts3c2ch9mgravv2i1k [following]\n",
            "--2020-05-28 07:13:23--  https://docs.google.com/nonceSigner?nonce=g10rad23cvhgg&continue=https://doc-0c-60-docs.googleusercontent.com/docs/securesc/jbju83ubigc3qdrcaq5ui6kaiebhv7j4/arhqtjd2unv3v0hhlutlo23l5i5vcqof/1590649950000/14211000813324722452/02065955666585418514Z/1lHtSjvVWP_VUVRjmMBVXQa_9WR2AnB3r?e%3Ddownload&hash=95dfhu015vl6gpts3c2ch9mgravv2i1k\n",
            "Connecting to docs.google.com (docs.google.com)|142.250.31.113|:443... connected.\n",
            "HTTP request sent, awaiting response... 302 Found\n",
            "Location: https://doc-0c-60-docs.googleusercontent.com/docs/securesc/jbju83ubigc3qdrcaq5ui6kaiebhv7j4/arhqtjd2unv3v0hhlutlo23l5i5vcqof/1590649950000/14211000813324722452/02065955666585418514Z/1lHtSjvVWP_VUVRjmMBVXQa_9WR2AnB3r?e=download&nonce=g10rad23cvhgg&user=02065955666585418514Z&hash=tl2514i9isjn1uf1a7pvagtufiu9pkaq [following]\n",
            "--2020-05-28 07:13:23--  https://doc-0c-60-docs.googleusercontent.com/docs/securesc/jbju83ubigc3qdrcaq5ui6kaiebhv7j4/arhqtjd2unv3v0hhlutlo23l5i5vcqof/1590649950000/14211000813324722452/02065955666585418514Z/1lHtSjvVWP_VUVRjmMBVXQa_9WR2AnB3r?e=download&nonce=g10rad23cvhgg&user=02065955666585418514Z&hash=tl2514i9isjn1uf1a7pvagtufiu9pkaq\n",
            "Connecting to doc-0c-60-docs.googleusercontent.com (doc-0c-60-docs.googleusercontent.com)|172.217.12.225|:443... connected.\n",
            "HTTP request sent, awaiting response... 200 OK\n",
            "Length: 930127 (908K) [text/xml]\n",
            "Saving to: ‘haarcascade_frontalface_default.xml’\n",
            "\n",
            "haarcascade_frontal 100%[===================>] 908.33K  --.-KB/s    in 0.05s   \n",
            "\n",
            "2020-05-28 07:13:23 (19.4 MB/s) - ‘haarcascade_frontalface_default.xml’ saved [930127/930127]\n",
            "\n"
          ],
          "name": "stdout"
        }
      ]
    },
    {
      "cell_type": "markdown",
      "metadata": {
        "id": "kEM0NjlrB4pC",
        "colab_type": "text"
      },
      "source": [
        "## Loading the cascade and model"
      ]
    },
    {
      "cell_type": "code",
      "metadata": {
        "id": "gPju18aWB4pE",
        "colab_type": "code",
        "colab": {}
      },
      "source": [
        "model = load_model('/content/facedetection_vgg.h5')\n",
        "face_cascade = cv2.CascadeClassifier('/content/haarcascade_frontalface_default.xml')"
      ],
      "execution_count": 0,
      "outputs": []
    },
    {
      "cell_type": "markdown",
      "metadata": {
        "id": "ZwBf1ed6B4pZ",
        "colab_type": "text"
      },
      "source": [
        "## Function to extract face"
      ]
    },
    {
      "cell_type": "code",
      "metadata": {
        "id": "6yrIEtXiB4pc",
        "colab_type": "code",
        "colab": {}
      },
      "source": [
        "def face_extractor(img):\n",
        "    # Function detects faces and returns the cropped face\n",
        "    faces = face_cascade.detectMultiScale(img, 1.3, 5)\n",
        "    \n",
        "    if faces is ():\n",
        "        return None\n",
        "    \n",
        "    # Crop all faces found\n",
        "    for (x,y,w,h) in faces:\n",
        "        cv2.rectangle(img,(x,y),(x+w,y+h),(0,255,255),2)\n",
        "        cropped_face = img[y:y+h, x:x+w]\n",
        "\n",
        "    return cropped_face"
      ],
      "execution_count": 0,
      "outputs": []
    },
    {
      "cell_type": "markdown",
      "metadata": {
        "id": "shMKMUUyB4po",
        "colab_type": "text"
      },
      "source": [
        "## Predict and classify functions"
      ]
    },
    {
      "cell_type": "code",
      "metadata": {
        "id": "zNKXRY8eB4pr",
        "colab_type": "code",
        "colab": {}
      },
      "source": [
        "def predict(p):\n",
        "    array = model.predict(p)\n",
        "    result = array[0]\n",
        "    answer = np.argmax(result)\n",
        "    return answer"
      ],
      "execution_count": 0,
      "outputs": []
    },
    {
      "cell_type": "code",
      "metadata": {
        "id": "JmFXkB9qB4p3",
        "colab_type": "code",
        "colab": {}
      },
      "source": [
        "def classify(c):\n",
        "    if c==0:\n",
        "        c_img=\"person0\"\n",
        "    elif c==1:\n",
        "        c_img=\"person1\"\n",
        "    elif c==2:\n",
        "        c_img=\"person2\"\n",
        "    elif c==3:\n",
        "        c_img=\"person3\"\n",
        "    elif c==4:\n",
        "        c_img=\"person4\"\n",
        "    return c_img"
      ],
      "execution_count": 0,
      "outputs": []
    },
    {
      "cell_type": "markdown",
      "metadata": {
        "id": "U0W79tpWB4qg",
        "colab_type": "text"
      },
      "source": [
        "# Face Recognition in local video file"
      ]
    },
    {
      "cell_type": "markdown",
      "metadata": {
        "id": "8DhpC7FzB4qh",
        "colab_type": "text"
      },
      "source": [
        "## Creating a text file"
      ]
    },
    {
      "cell_type": "code",
      "metadata": {
        "id": "xVdcTyCVB4qi",
        "colab_type": "code",
        "colab": {}
      },
      "source": [
        "f= open(\"data.txt\",\"w+\")"
      ],
      "execution_count": 0,
      "outputs": []
    },
    {
      "cell_type": "code",
      "metadata": {
        "id": "EHCihpz-Ilk9",
        "colab_type": "code",
        "colab": {}
      },
      "source": [
        "#adding columns to the text file\n",
        "f= open(\"data.txt\",\"w\")\n",
        "f.write('VideoName,PersonName,FrameNo\\n')\n",
        "f.close()"
      ],
      "execution_count": 0,
      "outputs": []
    },
    {
      "cell_type": "code",
      "metadata": {
        "id": "M00xZZ_xLfz7",
        "colab_type": "code",
        "colab": {
          "base_uri": "https://localhost:8080/",
          "height": 51
        },
        "outputId": "1fc5a80a-9848-43e8-cfb1-4d44586a29a5"
      },
      "source": [
        "f= open(\"data.txt\",\"r\")\n",
        "for lines in f:\n",
        "  print(lines)"
      ],
      "execution_count": 8,
      "outputs": [
        {
          "output_type": "stream",
          "text": [
            "VideoName,PersonName,FrameNo\n",
            "\n"
          ],
          "name": "stdout"
        }
      ]
    },
    {
      "cell_type": "code",
      "metadata": {
        "id": "F3nZ59_FB4qn",
        "colab_type": "code",
        "outputId": "d3679d82-0718-46fa-a0b6-565c650ff3b5",
        "colab": {
          "base_uri": "https://localhost:8080/",
          "height": 34
        }
      },
      "source": [
        "files = glob(\"/content/test/*\")\n",
        "print(files)"
      ],
      "execution_count": 9,
      "outputs": [
        {
          "output_type": "stream",
          "text": [
            "['/content/test/6822826321659440475.mp4', '/content/test/cam1-6828020019452055937.mp4']\n"
          ],
          "name": "stdout"
        }
      ]
    },
    {
      "cell_type": "markdown",
      "metadata": {
        "id": "gSgvOxGcTKLm",
        "colab_type": "text"
      },
      "source": [
        "## Counting total number of frames in the videos"
      ]
    },
    {
      "cell_type": "code",
      "metadata": {
        "id": "kWz2hYdAQvSv",
        "colab_type": "code",
        "outputId": "ed2c6af1-2bcf-4ffd-ade0-24f25ce2ca7c",
        "colab": {
          "base_uri": "https://localhost:8080/",
          "height": 34
        }
      },
      "source": [
        "cap = cv2.VideoCapture(files[0])\n",
        "length_1 = int(cap.get(cv2.CAP_PROP_FRAME_COUNT))\n",
        "print(length_1)"
      ],
      "execution_count": 10,
      "outputs": [
        {
          "output_type": "stream",
          "text": [
            "463\n"
          ],
          "name": "stdout"
        }
      ]
    },
    {
      "cell_type": "code",
      "metadata": {
        "id": "i9cunL7qQ8HY",
        "colab_type": "code",
        "outputId": "dcaf2319-1076-41df-8da0-e5aaed30a288",
        "colab": {
          "base_uri": "https://localhost:8080/",
          "height": 34
        }
      },
      "source": [
        "cap = cv2.VideoCapture(files[1])\n",
        "length_2 = int(cap.get(cv2.CAP_PROP_FRAME_COUNT))\n",
        "print(length_2)"
      ],
      "execution_count": 11,
      "outputs": [
        {
          "output_type": "stream",
          "text": [
            "471\n"
          ],
          "name": "stdout"
        }
      ]
    },
    {
      "cell_type": "markdown",
      "metadata": {
        "id": "4zn008lVTthl",
        "colab_type": "text"
      },
      "source": [
        "# **Frame by frame prediction**\n",
        "(Test video has been manually uploaded to colab file)"
      ]
    },
    {
      "cell_type": "code",
      "metadata": {
        "id": "HK0l55EgB4qr",
        "colab_type": "code",
        "outputId": "2ccccb9c-5327-499b-8d8c-e11cda80522f",
        "colab": {
          "base_uri": "https://localhost:8080/",
          "height": 1000
        }
      },
      "source": [
        "f = open('data.txt', 'a+')\n",
        "file = files[0]\n",
        "vid_name = os.path.basename(file)\n",
        "video_capture = cv2.VideoCapture(file)\n",
        "while True:\n",
        "    _, frame = video_capture.read()\n",
        "    face=face_extractor(frame)\n",
        "    if type(face) is np.ndarray:\n",
        "        face = cv2.resize(face, (224, 224))\n",
        "        im = Image.fromarray(face, 'RGB')\n",
        "           #Resizing into 128x128 because we trained the model with this image size.\n",
        "        img_array = np.array(im)\n",
        "        #Our keras model used a 4D tensor, (images x height x width x channel)\n",
        "        #So changing dimension 128x128x3 into 1x128x128x3 \n",
        "        img_array = np.expand_dims(img_array, axis=0)\n",
        "        pred = model.predict(img_array)\n",
        "        ans = predict(img_array)\n",
        "        name = classify(ans)\n",
        "        cv2.putText(frame,name, (50, 50), cv2.FONT_HERSHEY_COMPLEX, 1, (0,255,0), 2)\n",
        "        if name is not None:\n",
        "            f.write(str(vid_name)+','+name+','+str(video_capture.get(cv2.CAP_PROP_POS_FRAMES))+'\\n')\n",
        "            print(video_capture.get(cv2.CAP_PROP_POS_FRAMES))\n",
        "        else:\n",
        "          pass\n",
        "    else:\n",
        "        cv2.putText(frame,\"No face found\", (50, 50), cv2.FONT_HERSHEY_COMPLEX, 1, (0,255,0), 2)\n",
        "    #cv2.imshow('Video', frame)\n",
        "    if video_capture.get(cv2.CAP_PROP_POS_FRAMES) == 463:\n",
        "        break\n",
        "video_capture.release()\n",
        "cv2.destroyAllWindows()\n",
        "f.close()"
      ],
      "execution_count": 12,
      "outputs": [
        {
          "output_type": "stream",
          "text": [
            "2.0\n",
            "4.0\n",
            "5.0\n",
            "8.0\n",
            "9.0\n",
            "10.0\n",
            "11.0\n",
            "14.0\n",
            "50.0\n",
            "51.0\n",
            "52.0\n",
            "53.0\n",
            "54.0\n",
            "55.0\n",
            "56.0\n",
            "57.0\n",
            "58.0\n",
            "59.0\n",
            "60.0\n",
            "61.0\n",
            "62.0\n",
            "63.0\n",
            "65.0\n",
            "67.0\n",
            "68.0\n",
            "76.0\n",
            "77.0\n",
            "78.0\n",
            "79.0\n",
            "82.0\n",
            "83.0\n",
            "84.0\n",
            "85.0\n",
            "99.0\n",
            "137.0\n",
            "138.0\n",
            "141.0\n",
            "142.0\n",
            "152.0\n",
            "153.0\n",
            "167.0\n",
            "253.0\n",
            "262.0\n",
            "263.0\n",
            "265.0\n",
            "268.0\n",
            "273.0\n",
            "275.0\n",
            "280.0\n",
            "282.0\n",
            "283.0\n",
            "284.0\n",
            "285.0\n",
            "298.0\n",
            "336.0\n",
            "337.0\n",
            "338.0\n",
            "340.0\n",
            "350.0\n",
            "404.0\n"
          ],
          "name": "stdout"
        }
      ]
    },
    {
      "cell_type": "code",
      "metadata": {
        "id": "Tztj8bp0B4qx",
        "colab_type": "code",
        "outputId": "1f4f0b71-97b6-4768-a944-3cae148bcd2e",
        "colab": {
          "base_uri": "https://localhost:8080/",
          "height": 408
        }
      },
      "source": [
        "f = open('data.txt', 'a+')\n",
        "file = files[1]\n",
        "vid_name = os.path.basename(file)\n",
        "video_capture = cv2.VideoCapture(file)\n",
        "while True:\n",
        "    _, frame = video_capture.read()\n",
        "    face=face_extractor(frame)\n",
        "    if type(face) is np.ndarray:\n",
        "        face = cv2.resize(face, (224, 224))\n",
        "        im = Image.fromarray(face, 'RGB')\n",
        "           #Resizing into 128x128 because we trained the model with this image size.\n",
        "        img_array = np.array(im)\n",
        "        #Our keras model used a 4D tensor, (images x height x width x channel)\n",
        "        #So changing dimension 128x128x3 into 1x128x128x3 \n",
        "        img_array = np.expand_dims(img_array, axis=0)\n",
        "        pred = model.predict(img_array)\n",
        "        ans = predict(img_array)\n",
        "        name = classify(ans)\n",
        "        cv2.putText(frame,name, (50, 50), cv2.FONT_HERSHEY_COMPLEX, 1, (0,255,0), 2)\n",
        "        if name is not None:\n",
        "            f.write(str(vid_name)+','+name+','+str(video_capture.get(cv2.CAP_PROP_POS_FRAMES))+'\\n')\n",
        "            print(video_capture.get(cv2.CAP_PROP_POS_FRAMES))\n",
        "        else:\n",
        "          pass\n",
        "    else:\n",
        "        cv2.putText(frame,\"No face found\", (50, 50), cv2.FONT_HERSHEY_COMPLEX, 1, (0,255,0), 2)\n",
        "    #cv2.imshow('Video', frame)\n",
        "    if video_capture.get(cv2.CAP_PROP_POS_FRAMES) == 463:\n",
        "        break\n",
        "video_capture.release()\n",
        "cv2.destroyAllWindows()\n",
        "f.close()"
      ],
      "execution_count": 13,
      "outputs": [
        {
          "output_type": "stream",
          "text": [
            "13.0\n",
            "18.0\n",
            "32.0\n",
            "45.0\n",
            "46.0\n",
            "47.0\n",
            "66.0\n",
            "133.0\n",
            "159.0\n",
            "218.0\n",
            "242.0\n",
            "280.0\n",
            "365.0\n",
            "379.0\n",
            "380.0\n",
            "381.0\n",
            "423.0\n",
            "427.0\n",
            "429.0\n",
            "430.0\n",
            "433.0\n",
            "434.0\n",
            "435.0\n"
          ],
          "name": "stdout"
        }
      ]
    },
    {
      "cell_type": "code",
      "metadata": {
        "id": "iwbJmj2INdPW",
        "colab_type": "code",
        "colab": {
          "base_uri": "https://localhost:8080/",
          "height": 1000
        },
        "outputId": "7c8565e9-8418-4e90-e5a7-65d3d3b5f299"
      },
      "source": [
        "f= open(\"data.txt\",\"r\")\n",
        "for lines in f:\n",
        "  print(lines)"
      ],
      "execution_count": 14,
      "outputs": [
        {
          "output_type": "stream",
          "text": [
            "VideoName,PersonName,FrameNo\n",
            "\n",
            "6822826321659440475.mp4,person0,2.0\n",
            "\n",
            "6822826321659440475.mp4,person2,4.0\n",
            "\n",
            "6822826321659440475.mp4,person2,5.0\n",
            "\n",
            "6822826321659440475.mp4,person2,8.0\n",
            "\n",
            "6822826321659440475.mp4,person0,9.0\n",
            "\n",
            "6822826321659440475.mp4,person0,10.0\n",
            "\n",
            "6822826321659440475.mp4,person0,11.0\n",
            "\n",
            "6822826321659440475.mp4,person0,14.0\n",
            "\n",
            "6822826321659440475.mp4,person4,50.0\n",
            "\n",
            "6822826321659440475.mp4,person4,51.0\n",
            "\n",
            "6822826321659440475.mp4,person1,52.0\n",
            "\n",
            "6822826321659440475.mp4,person1,53.0\n",
            "\n",
            "6822826321659440475.mp4,person2,54.0\n",
            "\n",
            "6822826321659440475.mp4,person2,55.0\n",
            "\n",
            "6822826321659440475.mp4,person4,56.0\n",
            "\n",
            "6822826321659440475.mp4,person2,57.0\n",
            "\n",
            "6822826321659440475.mp4,person2,58.0\n",
            "\n",
            "6822826321659440475.mp4,person2,59.0\n",
            "\n",
            "6822826321659440475.mp4,person2,60.0\n",
            "\n",
            "6822826321659440475.mp4,person2,61.0\n",
            "\n",
            "6822826321659440475.mp4,person2,62.0\n",
            "\n",
            "6822826321659440475.mp4,person2,63.0\n",
            "\n",
            "6822826321659440475.mp4,person1,65.0\n",
            "\n",
            "6822826321659440475.mp4,person2,67.0\n",
            "\n",
            "6822826321659440475.mp4,person2,68.0\n",
            "\n",
            "6822826321659440475.mp4,person0,76.0\n",
            "\n",
            "6822826321659440475.mp4,person0,77.0\n",
            "\n",
            "6822826321659440475.mp4,person0,78.0\n",
            "\n",
            "6822826321659440475.mp4,person0,79.0\n",
            "\n",
            "6822826321659440475.mp4,person4,82.0\n",
            "\n",
            "6822826321659440475.mp4,person4,83.0\n",
            "\n",
            "6822826321659440475.mp4,person4,84.0\n",
            "\n",
            "6822826321659440475.mp4,person4,85.0\n",
            "\n",
            "6822826321659440475.mp4,person2,99.0\n",
            "\n",
            "6822826321659440475.mp4,person4,137.0\n",
            "\n",
            "6822826321659440475.mp4,person0,138.0\n",
            "\n",
            "6822826321659440475.mp4,person0,141.0\n",
            "\n",
            "6822826321659440475.mp4,person0,142.0\n",
            "\n",
            "6822826321659440475.mp4,person4,152.0\n",
            "\n",
            "6822826321659440475.mp4,person2,153.0\n",
            "\n",
            "6822826321659440475.mp4,person2,167.0\n",
            "\n",
            "6822826321659440475.mp4,person0,253.0\n",
            "\n",
            "6822826321659440475.mp4,person0,262.0\n",
            "\n",
            "6822826321659440475.mp4,person0,263.0\n",
            "\n",
            "6822826321659440475.mp4,person0,265.0\n",
            "\n",
            "6822826321659440475.mp4,person0,268.0\n",
            "\n",
            "6822826321659440475.mp4,person2,273.0\n",
            "\n",
            "6822826321659440475.mp4,person2,275.0\n",
            "\n",
            "6822826321659440475.mp4,person2,280.0\n",
            "\n",
            "6822826321659440475.mp4,person2,282.0\n",
            "\n",
            "6822826321659440475.mp4,person2,283.0\n",
            "\n",
            "6822826321659440475.mp4,person2,284.0\n",
            "\n",
            "6822826321659440475.mp4,person2,285.0\n",
            "\n",
            "6822826321659440475.mp4,person2,298.0\n",
            "\n",
            "6822826321659440475.mp4,person2,336.0\n",
            "\n",
            "6822826321659440475.mp4,person2,337.0\n",
            "\n",
            "6822826321659440475.mp4,person2,338.0\n",
            "\n",
            "6822826321659440475.mp4,person2,340.0\n",
            "\n",
            "6822826321659440475.mp4,person0,350.0\n",
            "\n",
            "6822826321659440475.mp4,person2,404.0\n",
            "\n",
            "cam1-6828020019452055937.mp4,person4,13.0\n",
            "\n",
            "cam1-6828020019452055937.mp4,person4,18.0\n",
            "\n",
            "cam1-6828020019452055937.mp4,person2,32.0\n",
            "\n",
            "cam1-6828020019452055937.mp4,person2,45.0\n",
            "\n",
            "cam1-6828020019452055937.mp4,person4,46.0\n",
            "\n",
            "cam1-6828020019452055937.mp4,person4,47.0\n",
            "\n",
            "cam1-6828020019452055937.mp4,person2,66.0\n",
            "\n",
            "cam1-6828020019452055937.mp4,person2,133.0\n",
            "\n",
            "cam1-6828020019452055937.mp4,person1,159.0\n",
            "\n",
            "cam1-6828020019452055937.mp4,person2,218.0\n",
            "\n",
            "cam1-6828020019452055937.mp4,person1,242.0\n",
            "\n",
            "cam1-6828020019452055937.mp4,person2,280.0\n",
            "\n",
            "cam1-6828020019452055937.mp4,person2,365.0\n",
            "\n",
            "cam1-6828020019452055937.mp4,person2,379.0\n",
            "\n",
            "cam1-6828020019452055937.mp4,person2,380.0\n",
            "\n",
            "cam1-6828020019452055937.mp4,person2,381.0\n",
            "\n",
            "cam1-6828020019452055937.mp4,person2,423.0\n",
            "\n",
            "cam1-6828020019452055937.mp4,person2,427.0\n",
            "\n",
            "cam1-6828020019452055937.mp4,person2,429.0\n",
            "\n",
            "cam1-6828020019452055937.mp4,person2,430.0\n",
            "\n",
            "cam1-6828020019452055937.mp4,person2,433.0\n",
            "\n",
            "cam1-6828020019452055937.mp4,person2,434.0\n",
            "\n",
            "cam1-6828020019452055937.mp4,person2,435.0\n",
            "\n"
          ],
          "name": "stdout"
        }
      ]
    },
    {
      "cell_type": "markdown",
      "metadata": {
        "id": "KeWwo5q0OQVG",
        "colab_type": "text"
      },
      "source": [
        "## Reading Text as a dataframe and saving as csv file "
      ]
    },
    {
      "cell_type": "code",
      "metadata": {
        "id": "SVgJ16UpOb6T",
        "colab_type": "code",
        "colab": {
          "base_uri": "https://localhost:8080/",
          "height": 359
        },
        "outputId": "313d138c-973d-4192-bbd1-a80037bc4bbc"
      },
      "source": [
        "df = pd.read_csv('/content/data.txt', sep = ',')\n",
        "df.head(10)"
      ],
      "execution_count": 15,
      "outputs": [
        {
          "output_type": "execute_result",
          "data": {
            "text/html": [
              "<div>\n",
              "<style scoped>\n",
              "    .dataframe tbody tr th:only-of-type {\n",
              "        vertical-align: middle;\n",
              "    }\n",
              "\n",
              "    .dataframe tbody tr th {\n",
              "        vertical-align: top;\n",
              "    }\n",
              "\n",
              "    .dataframe thead th {\n",
              "        text-align: right;\n",
              "    }\n",
              "</style>\n",
              "<table border=\"1\" class=\"dataframe\">\n",
              "  <thead>\n",
              "    <tr style=\"text-align: right;\">\n",
              "      <th></th>\n",
              "      <th>VideoName</th>\n",
              "      <th>PersonName</th>\n",
              "      <th>FrameNo</th>\n",
              "    </tr>\n",
              "  </thead>\n",
              "  <tbody>\n",
              "    <tr>\n",
              "      <th>0</th>\n",
              "      <td>6822826321659440475.mp4</td>\n",
              "      <td>person0</td>\n",
              "      <td>2.0</td>\n",
              "    </tr>\n",
              "    <tr>\n",
              "      <th>1</th>\n",
              "      <td>6822826321659440475.mp4</td>\n",
              "      <td>person2</td>\n",
              "      <td>4.0</td>\n",
              "    </tr>\n",
              "    <tr>\n",
              "      <th>2</th>\n",
              "      <td>6822826321659440475.mp4</td>\n",
              "      <td>person2</td>\n",
              "      <td>5.0</td>\n",
              "    </tr>\n",
              "    <tr>\n",
              "      <th>3</th>\n",
              "      <td>6822826321659440475.mp4</td>\n",
              "      <td>person2</td>\n",
              "      <td>8.0</td>\n",
              "    </tr>\n",
              "    <tr>\n",
              "      <th>4</th>\n",
              "      <td>6822826321659440475.mp4</td>\n",
              "      <td>person0</td>\n",
              "      <td>9.0</td>\n",
              "    </tr>\n",
              "    <tr>\n",
              "      <th>5</th>\n",
              "      <td>6822826321659440475.mp4</td>\n",
              "      <td>person0</td>\n",
              "      <td>10.0</td>\n",
              "    </tr>\n",
              "    <tr>\n",
              "      <th>6</th>\n",
              "      <td>6822826321659440475.mp4</td>\n",
              "      <td>person0</td>\n",
              "      <td>11.0</td>\n",
              "    </tr>\n",
              "    <tr>\n",
              "      <th>7</th>\n",
              "      <td>6822826321659440475.mp4</td>\n",
              "      <td>person0</td>\n",
              "      <td>14.0</td>\n",
              "    </tr>\n",
              "    <tr>\n",
              "      <th>8</th>\n",
              "      <td>6822826321659440475.mp4</td>\n",
              "      <td>person4</td>\n",
              "      <td>50.0</td>\n",
              "    </tr>\n",
              "    <tr>\n",
              "      <th>9</th>\n",
              "      <td>6822826321659440475.mp4</td>\n",
              "      <td>person4</td>\n",
              "      <td>51.0</td>\n",
              "    </tr>\n",
              "  </tbody>\n",
              "</table>\n",
              "</div>"
            ],
            "text/plain": [
              "                 VideoName PersonName  FrameNo\n",
              "0  6822826321659440475.mp4    person0      2.0\n",
              "1  6822826321659440475.mp4    person2      4.0\n",
              "2  6822826321659440475.mp4    person2      5.0\n",
              "3  6822826321659440475.mp4    person2      8.0\n",
              "4  6822826321659440475.mp4    person0      9.0\n",
              "5  6822826321659440475.mp4    person0     10.0\n",
              "6  6822826321659440475.mp4    person0     11.0\n",
              "7  6822826321659440475.mp4    person0     14.0\n",
              "8  6822826321659440475.mp4    person4     50.0\n",
              "9  6822826321659440475.mp4    person4     51.0"
            ]
          },
          "metadata": {
            "tags": []
          },
          "execution_count": 15
        }
      ]
    },
    {
      "cell_type": "code",
      "metadata": {
        "id": "o2JnxMEoPB0J",
        "colab_type": "code",
        "colab": {
          "base_uri": "https://localhost:8080/",
          "height": 34
        },
        "outputId": "b7a52790-4711-4c3b-cae8-a41f2678656c"
      },
      "source": [
        "df.shape"
      ],
      "execution_count": 16,
      "outputs": [
        {
          "output_type": "execute_result",
          "data": {
            "text/plain": [
              "(83, 3)"
            ]
          },
          "metadata": {
            "tags": []
          },
          "execution_count": 16
        }
      ]
    },
    {
      "cell_type": "code",
      "metadata": {
        "id": "hsh3JouYPkBi",
        "colab_type": "code",
        "colab": {}
      },
      "source": [
        "df.to_csv('data.csv', encoding = 'utf-8')\n",
        "from google.colab import files\n",
        "files.download('data.csv')"
      ],
      "execution_count": 0,
      "outputs": []
    }
  ]
}