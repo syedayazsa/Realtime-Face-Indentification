{
  "nbformat": 4,
  "nbformat_minor": 0,
  "metadata": {
    "kernelspec": {
      "display_name": "Python 3",
      "language": "python",
      "name": "python3"
    },
    "language_info": {
      "codemirror_mode": {
        "name": "ipython",
        "version": 3
      },
      "file_extension": ".py",
      "mimetype": "text/x-python",
      "name": "python",
      "nbconvert_exporter": "python",
      "pygments_lexer": "ipython3",
      "version": "3.7.6"
    },
    "colab": {
      "name": "train_test_split.ipynb",
      "provenance": [],
      "include_colab_link": true
    }
  },
  "cells": [
    {
      "cell_type": "markdown",
      "metadata": {
        "id": "view-in-github",
        "colab_type": "text"
      },
      "source": [
        "<a href=\"https://colab.research.google.com/github/syedayazsa/Realtime-Face-Indentification/blob/master/train_test_split.ipynb\" target=\"_parent\"><img src=\"https://colab.research.google.com/assets/colab-badge.svg\" alt=\"Open In Colab\"/></a>"
      ]
    },
    {
      "cell_type": "markdown",
      "metadata": {
        "id": "_N6ufGqBRzxe",
        "colab_type": "text"
      },
      "source": [
        "## Importing libraries"
      ]
    },
    {
      "cell_type": "code",
      "metadata": {
        "id": "DX0IierGRzxh",
        "colab_type": "code",
        "colab": {}
      },
      "source": [
        "import numpy as np\n",
        "import cv2\n",
        "import matplotlib.image as mpimg\n",
        "import matplotlib.pyplot as plt\n",
        "import os, shutil"
      ],
      "execution_count": 0,
      "outputs": []
    },
    {
      "cell_type": "code",
      "metadata": {
        "id": "hLPd03_XRzxm",
        "colab_type": "code",
        "colab": {},
        "outputId": "38537234-2e80-47fd-e747-485baab112b6"
      },
      "source": [
        "ls"
      ],
      "execution_count": 0,
      "outputs": [
        {
          "output_type": "stream",
          "text": [
            " Volume in drive C has no label.\n",
            " Volume Serial Number is 629F-1AA2\n",
            "\n",
            " Directory of C:\\Users\\Ayaz\\Desktop\\Face_Identification\n",
            "\n",
            "27-05-2020  18:17    <DIR>          .\n",
            "27-05-2020  18:17    <DIR>          ..\n",
            "27-05-2020  18:15    <DIR>          .ipynb_checkpoints\n",
            "27-05-2020  15:40    <DIR>          data\n",
            "27-05-2020  17:14             4,663 data_collection.ipynb\n",
            "27-05-2020  18:03    <DIR>          Datasets\n",
            "27-05-2020  18:10        46,564,550 Datasets.zip\n",
            "27-05-2020  18:03             1,249 face_detection.py\n",
            "27-05-2020  17:20    <DIR>          Images\n",
            "27-05-2020  16:07            57,613 img.png\n",
            "27-05-2020  18:17               930 train_test_split.ipynb\n",
            "               5 File(s)     46,629,005 bytes\n",
            "               6 Dir(s)  356,516,016,128 bytes free\n"
          ],
          "name": "stdout"
        }
      ]
    },
    {
      "cell_type": "code",
      "metadata": {
        "id": "TEVUReWnRzxq",
        "colab_type": "code",
        "colab": {},
        "outputId": "464af4cd-ffd0-4b2c-fcc3-75e9e66319b6"
      },
      "source": [
        "#getting the classes name\n",
        "dataset_path = r\"C:\\Users\\Ayaz\\Desktop\\Face_Identification\\Datasets\"\n",
        "folder_names = []\n",
        "folder_names = [f for f in sorted(os.listdir(dataset_path))]\n",
        "\n",
        "print(folder_names)"
      ],
      "execution_count": 0,
      "outputs": [
        {
          "output_type": "stream",
          "text": [
            "['person0', 'person1', 'person2', 'person3', 'person4']\n"
          ],
          "name": "stdout"
        }
      ]
    },
    {
      "cell_type": "markdown",
      "metadata": {
        "id": "t1jHA3bLRzxs",
        "colab_type": "text"
      },
      "source": [
        "## Counting Images"
      ]
    },
    {
      "cell_type": "code",
      "metadata": {
        "id": "l_YldH2bRzxt",
        "colab_type": "code",
        "colab": {},
        "outputId": "97a80fe1-6e4e-42ac-fc2c-4745906b9a35"
      },
      "source": [
        "category_dict = {}\n",
        "images_per_category_dict = {}\n",
        "category_images_path_dict = {}\n",
        "\n",
        "total_images = 0\n",
        "\n",
        "for i, category in enumerate(folder_names):\n",
        "    category_dict[i] = category\n",
        "    \n",
        "    folder_path = dataset_path + '/' + category\n",
        "    image_names = [img for img in sorted(os.listdir(folder_path))]\n",
        "    \n",
        "    images_per_category_dict[i] = len(image_names)\n",
        "    category_images_path_dict[i] = image_names\n",
        "    \n",
        "    print('%s: %d' %(category, images_per_category_dict[i]))\n",
        "    total_images += images_per_category_dict[i]\n",
        "    \n",
        "print('Total images in dataset: %d' %(total_images))"
      ],
      "execution_count": 0,
      "outputs": [
        {
          "output_type": "stream",
          "text": [
            "person0: 300\n",
            "person1: 300\n",
            "person2: 295\n",
            "person3: 297\n",
            "person4: 300\n",
            "Total images in dataset: 1492\n"
          ],
          "name": "stdout"
        }
      ]
    },
    {
      "cell_type": "markdown",
      "metadata": {
        "id": "gcXdbUQuRzxv",
        "colab_type": "text"
      },
      "source": [
        "## Splitting the data"
      ]
    },
    {
      "cell_type": "code",
      "metadata": {
        "id": "sIYEjK8ARzxw",
        "colab_type": "code",
        "colab": {}
      },
      "source": [
        "#specifying directories\n",
        "base_path = './split_dataset'\n",
        "train_dir = os.path.join(base_path, 'train')\n",
        "validation_dir = os.path.join(base_path, 'validation')"
      ],
      "execution_count": 0,
      "outputs": []
    },
    {
      "cell_type": "code",
      "metadata": {
        "id": "-l1IlZ4uRzx0",
        "colab_type": "code",
        "colab": {}
      },
      "source": [
        "# create the directories to use\n",
        "base_path = './split_dataset'\n",
        "os.mkdir(base_path)\n",
        "\n",
        "train_dir = os.path.join(base_path, 'train')\n",
        "os.mkdir(train_dir)\n",
        "\n",
        "validation_dir = os.path.join(base_path, 'validation')\n",
        "os.mkdir(validation_dir)"
      ],
      "execution_count": 0,
      "outputs": []
    },
    {
      "cell_type": "code",
      "metadata": {
        "id": "0IgcdyASRzx2",
        "colab_type": "code",
        "colab": {}
      },
      "source": [
        "# create the categories files in each\n",
        "\n",
        "for directory in [train_dir, validation_dir]:\n",
        "    for category in folder_names:\n",
        "        os.mkdir(os.path.join(directory, category))"
      ],
      "execution_count": 0,
      "outputs": []
    },
    {
      "cell_type": "code",
      "metadata": {
        "id": "YhXzDgyORzx5",
        "colab_type": "code",
        "colab": {}
      },
      "source": [
        "total_train = 0\n",
        "total_validation = 0\n",
        "\n",
        "total_train_2 = 0\n",
        "total_validation_2 = 0\n",
        "\n",
        "for i, category in enumerate(folder_names):\n",
        "    train_number = int(0.8 * images_per_category_dict[i])\n",
        "    validation_number = images_per_category_dict[i] - train_number # for not exceeding maximum number\n",
        "    \n",
        "    # for statistics later\n",
        "    total_train += train_number\n",
        "    total_validation += validation_number\n",
        "    \n",
        "    fnames = category_images_path_dict[i][:train_number]\n",
        "    for fname in fnames:\n",
        "        src = os.path.join(dataset_path, category, fname)\n",
        "        dst = os.path.join(train_dir, category, fname)\n",
        "        shutil.copyfile(src, dst)\n",
        "        \n",
        "    total_train_2 += len(fnames)\n",
        "        \n",
        "    fnames = category_images_path_dict[i][train_number:train_number + validation_number]\n",
        "    for fname in fnames:\n",
        "        src = os.path.join(dataset_path, category, fname)\n",
        "        dst = os.path.join(validation_dir, category, fname)\n",
        "        shutil.copyfile(src, dst)\n",
        "        \n",
        "    total_validation_2 += len(fnames)"
      ],
      "execution_count": 0,
      "outputs": []
    },
    {
      "cell_type": "code",
      "metadata": {
        "id": "5ws16vYqRzx7",
        "colab_type": "code",
        "colab": {},
        "outputId": "3221451e-5e8f-4cd1-e892-9100d8fe9998"
      },
      "source": [
        "# print statistics\n",
        "\n",
        "print('Correct train split: ', total_train == total_train_2)\n",
        "print('Correct validation split: ', total_validation == total_validation_2)\n",
        "print()\n",
        "print('Number of training images: ', total_train)\n",
        "print('Number of validation images: ', total_validation)\n",
        "print()\n",
        "print('Real percentage of training images: ', total_train / total_images)\n",
        "print('Real percentage of validation images: ', total_validation / total_images)"
      ],
      "execution_count": 0,
      "outputs": [
        {
          "output_type": "stream",
          "text": [
            "Correct train split:  True\n",
            "Correct validation split:  True\n",
            "\n",
            "Number of training images:  1193\n",
            "Number of validation images:  299\n",
            "\n",
            "Real percentage of training images:  0.7995978552278821\n",
            "Real percentage of validation images:  0.20040214477211796\n"
          ],
          "name": "stdout"
        }
      ]
    }
  ]
}